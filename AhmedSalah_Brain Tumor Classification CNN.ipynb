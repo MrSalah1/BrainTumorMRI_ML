{
 "cells": [
  {
   "cell_type": "code",
   "execution_count": null,
   "id": "bb218a9f",
   "metadata": {},
   "outputs": [],
   "source": []
  }
 ],
 "metadata": {
  "kernelspec": {
   "display_name": "base",
   "language": "python",
   "name": "python3"
  },
  "language_info": {
   "name": "python",
   "version": "3.9.13"
  }
 },
 "nbformat": 4,
 "nbformat_minor": 5
}
